{
 "cells": [
  {
   "cell_type": "code",
   "execution_count": 1,
   "id": "e1b2360e-ad36-4503-a5c7-2ffe1ca12ec5",
   "metadata": {},
   "outputs": [],
   "source": [
    "import torch"
   ]
  },
  {
   "cell_type": "markdown",
   "id": "5bf26196",
   "metadata": {},
   "source": [
    "# Loading and Preprocessing\n",
    "\n",
    "In this section\n",
    "-  I will load and tokenize text\n",
    "- Create a vocabulary\n",
    "- Encode Text\n",
    "- Create Training Sequences\n"
   ]
  },
  {
   "cell_type": "code",
   "execution_count": 1,
   "id": "23a2f3a2-92f1-4622-bfe5-29e159960e2f",
   "metadata": {},
   "outputs": [],
   "source": [
    "with open(\"input.txt\") as f:\n",
    "    data = [line.strip() for line in f if line.strip()]\n",
    "    data = \" \".join(data)"
   ]
  },
  {
   "cell_type": "code",
   "execution_count": null,
   "id": "d362dcec-1e86-4a5c-8642-1f23eaa60dc2",
   "metadata": {},
   "outputs": [],
   "source": [
    "class Tokenizer:\n",
    "    def __init__(self, data):\n",
    "        self.data = data\n",
    "        self.vocab = sorted(set(data))\n",
    "        self.char2idx = {char: idx for idx, char in enumerate(self.vocab)}\n",
    "        self.idx2char = {idx: char for idx, char in enumerate(self.vocab)}\n",
    "\n",
    "    def encode(self, data):\n",
    "        return torch.tensor([self.char2idx[char] for char in data])\n",
    "\n",
    "    def decode(self, data):\n",
    "        return \"\".join([self.idx2char[idx] for idx in data])"
   ]
  },
  {
   "cell_type": "code",
   "execution_count": null,
   "id": "1fd63f22-b204-4ce1-8986-e9deaae3f5fb",
   "metadata": {},
   "outputs": [],
   "source": [
    "d"
   ]
  },
  {
   "cell_type": "code",
   "execution_count": null,
   "id": "b6fd3d39-7e23-4048-bfcc-084b5f2cb5e6",
   "metadata": {},
   "outputs": [],
   "source": []
  }
 ],
 "metadata": {
  "kernelspec": {
   "display_name": "env",
   "language": "python",
   "name": "python3"
  },
  "language_info": {
   "codemirror_mode": {
    "name": "ipython",
    "version": 3
   },
   "file_extension": ".py",
   "mimetype": "text/x-python",
   "name": "python",
   "nbconvert_exporter": "python",
   "pygments_lexer": "ipython3",
   "version": "3.12.4"
  }
 },
 "nbformat": 4,
 "nbformat_minor": 5
}
