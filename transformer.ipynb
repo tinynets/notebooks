{
 "cells": [
  {
   "cell_type": "code",
   "execution_count": 39,
   "id": "e1b2360e-ad36-4503-a5c7-2ffe1ca12ec5",
   "metadata": {},
   "outputs": [],
   "source": [
    "import torch\n",
    "from torch.utils.data import Dataset, DataLoader"
   ]
  },
  {
   "cell_type": "markdown",
   "id": "5bf26196",
   "metadata": {},
   "source": [
    "# Loading and Preprocessing\n",
    "\n",
    "In this section\n",
    "-  I will load and tokenize text\n",
    "- Create a vocabulary\n",
    "- Encode Text\n",
    "- Create Training Sequences\n"
   ]
  },
  {
   "cell_type": "code",
   "execution_count": 44,
   "id": "23a2f3a2-92f1-4622-bfe5-29e159960e2f",
   "metadata": {},
   "outputs": [],
   "source": [
    "with open(\"input.txt\") as f:\n",
    "    data = [line.strip() for line in f if line.strip()]\n",
    "    data = \" \".join(data)\n",
    "\n",
    "# TESTING WITH SMALLER DATASET\n",
    "data = data[:100]"
   ]
  },
  {
   "cell_type": "code",
   "execution_count": 45,
   "id": "d362dcec-1e86-4a5c-8642-1f23eaa60dc2",
   "metadata": {},
   "outputs": [],
   "source": [
    "class Tokenizer:\n",
    "    def __init__(self, data):\n",
    "        self.data = data\n",
    "        self.vocab = sorted(set(data))\n",
    "        self.char2idx = {char: idx for idx, char in enumerate(self.vocab)}\n",
    "        self.idx2char = {idx: char for idx, char in enumerate(self.vocab)}\n",
    "\n",
    "    def encode(self, data):\n",
    "        return torch.tensor([self.char2idx[char] for char in data])\n",
    "\n",
    "    def decode(self, data):\n",
    "        data = data.tolist()\n",
    "        return \"\".join([self.idx2char[idx] for idx in data])"
   ]
  },
  {
   "cell_type": "code",
   "execution_count": 46,
   "id": "7965a343",
   "metadata": {},
   "outputs": [],
   "source": [
    "class TextDataset(Dataset):\n",
    "    def __init__(self, data, seq_length):\n",
    "        self.data = data\n",
    "        self.seq_length = seq_length\n",
    "\n",
    "    def __len__(self):\n",
    "        return len(self.data) - self.seq_length\n",
    "\n",
    "    def __getitem__(self, idx):\n",
    "        return (self.data[idx:idx + self.seq_length], self.data[idx + 1:idx + self.seq_length + 1])"
   ]
  },
  {
   "cell_type": "code",
   "execution_count": 47,
   "id": "1fd63f22-b204-4ce1-8986-e9deaae3f5fb",
   "metadata": {},
   "outputs": [],
   "source": [
    "tokenizer = Tokenizer(data)\n",
    "data = tokenizer.encode(data)"
   ]
  },
  {
   "cell_type": "code",
   "execution_count": 63,
   "id": "25088a1b",
   "metadata": {},
   "outputs": [],
   "source": [
    "dataset = TextDataset(data, 5)\n",
    "dataloader = DataLoader(dataset, batch_size=20, shuffle=True)"
   ]
  },
  {
   "cell_type": "code",
   "execution_count": 65,
   "id": "6212ff05",
   "metadata": {},
   "outputs": [],
   "source": [
    "# some logic to see if the dataloader is working\n",
    "# for i in range(5):\n",
    "#     for x, y in dataloader:\n",
    "#         print(x[i], y[i])\n",
    "#         break\n",
    "#     print()"
   ]
  },
  {
   "cell_type": "code",
   "execution_count": null,
   "id": "2b5f117a",
   "metadata": {},
   "outputs": [],
   "source": []
  }
 ],
 "metadata": {
  "kernelspec": {
   "display_name": "env",
   "language": "python",
   "name": "python3"
  },
  "language_info": {
   "codemirror_mode": {
    "name": "ipython",
    "version": 3
   },
   "file_extension": ".py",
   "mimetype": "text/x-python",
   "name": "python",
   "nbconvert_exporter": "python",
   "pygments_lexer": "ipython3",
   "version": "3.12.4"
  }
 },
 "nbformat": 4,
 "nbformat_minor": 5
}
