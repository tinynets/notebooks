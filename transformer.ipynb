{
 "cells": [
  {
   "cell_type": "code",
   "execution_count": 66,
   "id": "e1b2360e-ad36-4503-a5c7-2ffe1ca12ec5",
   "metadata": {},
   "outputs": [],
   "source": [
    "import torch\n",
    "import torch.nn as nn\n",
    "import torch.optim as optim\n",
    "from torch.utils.data import Dataset, DataLoader"
   ]
  },
  {
   "cell_type": "markdown",
   "id": "5bf26196",
   "metadata": {},
   "source": [
    "# Loading and Preprocessing\n",
    "\n",
    "In this section\n",
    "-  I will load and tokenize text\n",
    "- Create a vocabulary\n",
    "- Encode Text\n",
    "- Create Training Sequences\n"
   ]
  },
  {
   "cell_type": "code",
   "execution_count": 72,
   "id": "23a2f3a2-92f1-4622-bfe5-29e159960e2f",
   "metadata": {},
   "outputs": [],
   "source": [
    "with open(\"input.txt\") as f:\n",
    "    data = [line.strip() for line in f if line.strip()]\n",
    "    data = \" \".join(data)\n",
    "\n",
    "# TESTING WITH SMALLER DATASET\n",
    "data = data[:100]"
   ]
  },
  {
   "cell_type": "code",
   "execution_count": 73,
   "id": "d362dcec-1e86-4a5c-8642-1f23eaa60dc2",
   "metadata": {},
   "outputs": [],
   "source": [
    "class Tokenizer:\n",
    "    def __init__(self, data):\n",
    "        self.data = data\n",
    "        self.vocab = sorted(set(data))\n",
    "        self.char2idx = {char: idx for idx, char in enumerate(self.vocab)}\n",
    "        self.idx2char = {idx: char for idx, char in enumerate(self.vocab)}\n",
    "        self.vocab_size = len(self.vocab)\n",
    "\n",
    "    def encode(self, data):\n",
    "        return torch.tensor([self.char2idx[char] for char in data])\n",
    "\n",
    "    def decode(self, data):\n",
    "        data = data.tolist()\n",
    "        return \"\".join([self.idx2char[idx] for idx in data])"
   ]
  },
  {
   "cell_type": "code",
   "execution_count": 74,
   "id": "7965a343",
   "metadata": {},
   "outputs": [],
   "source": [
    "class TextDataset(Dataset):\n",
    "    def __init__(self, data, seq_length):\n",
    "        self.data = data\n",
    "        self.seq_length = seq_length\n",
    "\n",
    "    def __len__(self):\n",
    "        return len(self.data) - self.seq_length\n",
    "\n",
    "    def __getitem__(self, idx):\n",
    "        return (self.data[idx:idx + self.seq_length], self.data[idx + 1:idx + self.seq_length + 1])"
   ]
  },
  {
   "cell_type": "code",
   "execution_count": 75,
   "id": "1fd63f22-b204-4ce1-8986-e9deaae3f5fb",
   "metadata": {},
   "outputs": [],
   "source": [
    "tokenizer = Tokenizer(data)\n",
    "data = tokenizer.encode(data)"
   ]
  },
  {
   "cell_type": "code",
   "execution_count": 76,
   "id": "25088a1b",
   "metadata": {},
   "outputs": [],
   "source": [
    "dataset = TextDataset(data, 5)\n",
    "dataloader = DataLoader(dataset, batch_size=20, shuffle=True)"
   ]
  },
  {
   "cell_type": "code",
   "execution_count": 77,
   "id": "6212ff05",
   "metadata": {},
   "outputs": [],
   "source": [
    "# some logic to see if the dataloader is working\n",
    "# for i in range(5):\n",
    "#     for x, y in dataloader:\n",
    "#         print(x[i], y[i])\n",
    "#         break\n",
    "#     print()"
   ]
  },
  {
   "cell_type": "markdown",
   "id": "2b5f117a",
   "metadata": {},
   "source": [
    "# Setting up the Model"
   ]
  },
  {
   "cell_type": "code",
   "execution_count": 80,
   "id": "e03bf418",
   "metadata": {},
   "outputs": [],
   "source": [
    "# input_size = tokenizer.vocab_size\n",
    "# output_size = tokenizer.vocab_size\n",
    "\n",
    "# setting up params per the nn.Transformer docs\n",
    "d_model = 100\n",
    "nhead = 12\n",
    "num_encoder_layers = 6\n",
    "num_decoder_layers = 6\n",
    "dim_feedforward = 2048\n",
    "dropout = 0.1\n",
    "activation = \"relu\"\n",
    "\n"
   ]
  },
  {
   "cell_type": "code",
   "execution_count": 81,
   "id": "23c34969",
   "metadata": {},
   "outputs": [],
   "source": [
    "class Transformer(nn.Module):\n",
    "    def __init__(self, d_model, nhead, num_encoder_layers, num_decoder_layers, dim_feedforward, dropout, activation):\n",
    "        super(Transformer, self).__init__()\n",
    "        self.transformer = nn.Transformer(d_model=d_model, nhead=nhead, num_encoder_layers=num_encoder_layers, num_decoder_layers=num_decoder_layers, dim_feedforward=dim_feedforward, dropout=dropout, activation=activation)\n",
    "        self.linear = nn.Linear(d_model, tokenizer.vocab_size)\n",
    "\n",
    "    def forward(self, src, tgt):\n",
    "        output = self.transformer(src, tgt)\n",
    "        output = self.linear(output)\n",
    "        return output"
   ]
  },
  {
   "cell_type": "code",
   "execution_count": null,
   "id": "e95acfb9",
   "metadata": {},
   "outputs": [],
   "source": []
  },
  {
   "cell_type": "markdown",
   "id": "47d50667",
   "metadata": {},
   "source": [
    "I need to take the time to understand the nn.Transformer class"
   ]
  },
  {
   "cell_type": "code",
   "execution_count": 83,
   "id": "808df860",
   "metadata": {},
   "outputs": [],
   "source": [
    "transformer_model = nn.Transformer(nhead=16, num_encoder_layers=12)\n",
    "src = torch.rand((10, 32, 512))\n",
    "tgt = torch.rand((20, 32, 512))\n",
    "out = transformer_model(src, tgt)"
   ]
  },
  {
   "cell_type": "code",
   "execution_count": 85,
   "id": "cae32e35",
   "metadata": {},
   "outputs": [
    {
     "data": {
      "text/plain": [
       "torch.Size([20, 32, 512])"
      ]
     },
     "execution_count": 85,
     "metadata": {},
     "output_type": "execute_result"
    }
   ],
   "source": [
    "out.shape"
   ]
  },
  {
   "cell_type": "code",
   "execution_count": null,
   "id": "443ecf51",
   "metadata": {},
   "outputs": [],
   "source": []
  }
 ],
 "metadata": {
  "kernelspec": {
   "display_name": "env",
   "language": "python",
   "name": "python3"
  },
  "language_info": {
   "codemirror_mode": {
    "name": "ipython",
    "version": 3
   },
   "file_extension": ".py",
   "mimetype": "text/x-python",
   "name": "python",
   "nbconvert_exporter": "python",
   "pygments_lexer": "ipython3",
   "version": "3.12.4"
  }
 },
 "nbformat": 4,
 "nbformat_minor": 5
}
