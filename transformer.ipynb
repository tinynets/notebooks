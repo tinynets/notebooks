{
 "cells": [
  {
   "cell_type": "code",
   "execution_count": 108,
   "id": "e1b2360e-ad36-4503-a5c7-2ffe1ca12ec5",
   "metadata": {},
   "outputs": [],
   "source": [
    "import torch\n",
    "import torch.nn as nn\n",
    "import torch.optim as optim\n",
    "from torch.utils.data import Dataset, DataLoader\n",
    "import matplotlib.pyplot as plt"
   ]
  },
  {
   "cell_type": "markdown",
   "id": "5bf26196",
   "metadata": {},
   "source": [
    "# Loading and Preprocessing\n",
    "\n",
    "In this section\n",
    "-  I will load and tokenize text\n",
    "- Create a vocabulary\n",
    "- Encode Text\n",
    "- Create Training Sequences\n"
   ]
  },
  {
   "cell_type": "code",
   "execution_count": 90,
   "id": "23a2f3a2-92f1-4622-bfe5-29e159960e2f",
   "metadata": {},
   "outputs": [],
   "source": [
    "with open(\"input.txt\") as f:\n",
    "    data = [line.strip() for line in f if line.strip()]\n",
    "    data = \" \".join(data)\n",
    "\n",
    "# TESTING WITH SMALLER DATASET\n",
    "data = data[:2000]"
   ]
  },
  {
   "cell_type": "code",
   "execution_count": 91,
   "id": "d362dcec-1e86-4a5c-8642-1f23eaa60dc2",
   "metadata": {},
   "outputs": [],
   "source": [
    "class Tokenizer:\n",
    "    def __init__(self, data):\n",
    "        self.data = data\n",
    "        self.vocab = sorted(set(data))\n",
    "        self.char2idx = {char: idx for idx, char in enumerate(self.vocab)}\n",
    "        self.idx2char = {idx: char for idx, char in enumerate(self.vocab)}\n",
    "        self.vocab_size = len(self.vocab)\n",
    "\n",
    "    def encode(self, data):\n",
    "        return torch.tensor([self.char2idx[char] for char in data])\n",
    "\n",
    "    def decode(self, data):\n",
    "        data = data.tolist()\n",
    "        return \"\".join([self.idx2char[idx] for idx in data])"
   ]
  },
  {
   "cell_type": "code",
   "execution_count": 92,
   "id": "7965a343",
   "metadata": {},
   "outputs": [],
   "source": [
    "class TextDataset(Dataset):\n",
    "    def __init__(self, data, seq_length):\n",
    "        self.data = data\n",
    "        self.seq_length = seq_length\n",
    "\n",
    "    def __len__(self):\n",
    "        return len(self.data) - self.seq_length\n",
    "\n",
    "    def __getitem__(self, idx):\n",
    "        return (self.data[idx:idx + self.seq_length], self.data[idx + 1:idx + self.seq_length + 1])"
   ]
  },
  {
   "cell_type": "code",
   "execution_count": 93,
   "id": "1fd63f22-b204-4ce1-8986-e9deaae3f5fb",
   "metadata": {},
   "outputs": [],
   "source": [
    "tokenizer = Tokenizer(data)\n",
    "data = tokenizer.encode(data)"
   ]
  },
  {
   "cell_type": "code",
   "execution_count": 94,
   "id": "25088a1b",
   "metadata": {},
   "outputs": [],
   "source": [
    "dataset = TextDataset(data, 5)\n",
    "dataloader = DataLoader(dataset, batch_size=20, shuffle=True)"
   ]
  },
  {
   "cell_type": "code",
   "execution_count": 95,
   "id": "6212ff05",
   "metadata": {},
   "outputs": [],
   "source": [
    "# some logic to see if the dataloader is working\n",
    "# for i in range(5):\n",
    "#     for x, y in dataloader:\n",
    "#         print(x[i], y[i])\n",
    "#         break\n",
    "#     print()"
   ]
  },
  {
   "cell_type": "markdown",
   "id": "2b5f117a",
   "metadata": {},
   "source": [
    "# Setting up the Model"
   ]
  },
  {
   "cell_type": "code",
   "execution_count": 96,
   "id": "c73dfedf",
   "metadata": {},
   "outputs": [],
   "source": [
    "class PositionalEncoding(nn.Module):\n",
    "    def __init__(self, d_model, max_len=1000):\n",
    "        super().__init__()\n",
    "        pe = torch.zeros(max_len, d_model)\n",
    "        position = torch.arange(0, max_len).unsqueeze(1)\n",
    "        div_term = torch.exp(torch.arange(0, d_model, 2) * -(torch.log(torch.tensor(10000.0)) / d_model))\n",
    "        pe[:, 0::2] = torch.sin(position * div_term)\n",
    "        pe[:, 1::2] = torch.cos(position * div_term)\n",
    "        pe = pe.unsqueeze(0)\n",
    "        self.register_buffer(\"pe\", pe)\n",
    "\n",
    "    def forward(self, x):\n",
    "        return x + self.pe[:, :x.size(1)]\n",
    "    "
   ]
  },
  {
   "cell_type": "code",
   "execution_count": 104,
   "id": "e03bf418",
   "metadata": {},
   "outputs": [],
   "source": [
    "vocab_size = tokenizer.vocab_size\n",
    "\n",
    "# setting up params per the nn.Transformer docs\n",
    "d_model = 108\n",
    "nhead = 12\n",
    "num_encoder_layers = 6\n",
    "num_decoder_layers = 6\n",
    "dim_feedforward = 2048\n",
    "dropout = 0.1\n",
    "activation = \"relu\"\n",
    "\n"
   ]
  },
  {
   "cell_type": "code",
   "execution_count": 105,
   "id": "808df860",
   "metadata": {},
   "outputs": [],
   "source": [
    "embedding = nn.Embedding(vocab_size, d_model)"
   ]
  },
  {
   "cell_type": "code",
   "execution_count": 110,
   "id": "4eeb6f86",
   "metadata": {},
   "outputs": [],
   "source": [
    "transformer = nn.Transformer(d_model=d_model, \n",
    "                             nhead=nhead, \n",
    "                             num_encoder_layers=num_encoder_layers, \n",
    "                             num_decoder_layers=num_decoder_layers, \n",
    "                             dim_feedforward=dim_feedforward, \n",
    "                             dropout=dropout, \n",
    "                             activation=activation,\n",
    "                             batch_first=True)"
   ]
  },
  {
   "cell_type": "markdown",
   "id": "bae5420c",
   "metadata": {},
   "source": [
    "## Training Loop"
   ]
  },
  {
   "cell_type": "markdown",
   "id": "e1e380cf",
   "metadata": {},
   "source": []
  }
 ],
 "metadata": {
  "kernelspec": {
   "display_name": "env",
   "language": "python",
   "name": "python3"
  },
  "language_info": {
   "codemirror_mode": {
    "name": "ipython",
    "version": 3
   },
   "file_extension": ".py",
   "mimetype": "text/x-python",
   "name": "python",
   "nbconvert_exporter": "python",
   "pygments_lexer": "ipython3",
   "version": "3.12.4"
  }
 },
 "nbformat": 4,
 "nbformat_minor": 5
}
